{
  "nbformat": 4,
  "nbformat_minor": 0,
  "metadata": {
    "colab": {
      "provenance": []
    },
    "kernelspec": {
      "name": "python3",
      "display_name": "Python 3"
    },
    "language_info": {
      "name": "python"
    }
  },
  "cells": [
    {
      "cell_type": "code",
      "execution_count": null,
      "metadata": {
        "colab": {
          "base_uri": "https://localhost:8080/"
        },
        "id": "D3HM2pBzHcOC",
        "outputId": "645d19c6-97f0-46a1-8726-cbc11d208732"
      },
      "outputs": [
        {
          "output_type": "stream",
          "name": "stdout",
          "text": [
            "Mounted at /content/drive\n"
          ]
        }
      ],
      "source": [
        "from google.colab import drive\n",
        "drive.mount('/content/drive')"
      ]
    },
    {
      "cell_type": "code",
      "source": [
        "import pandas as pd"
      ],
      "metadata": {
        "id": "3xNKIgpIHih4"
      },
      "execution_count": null,
      "outputs": []
    },
    {
      "cell_type": "code",
      "source": [
        "# import from my drive 'riceClassification.csv'\n",
        "data_df = pd.read_csv('/content/drive/My Drive/riceClassification.csv')"
      ],
      "metadata": {
        "id": "DbyMStkOHnsV"
      },
      "execution_count": null,
      "outputs": []
    },
    {
      "cell_type": "code",
      "source": [
        "import torch\n",
        "import torch.nn as nn\n",
        "from torch.optim import Adam\n",
        "from torch.utils.data import Dataset, DataLoader\n",
        "from torchsummary import summary\n",
        "from sklearn.model_selection import train_test_split\n",
        "from sklearn.metrics import accuracy_score\n",
        "import matplotlib.pyplot as plt\n",
        "import numpy as np"
      ],
      "metadata": {
        "id": "jButFXqMH9M8"
      },
      "execution_count": null,
      "outputs": []
    },
    {
      "cell_type": "code",
      "source": [
        "# detect is gpu is available\n",
        "device = 'cuda' if torch.cuda.is_available() else 'cpu'"
      ],
      "metadata": {
        "id": "Vb-7ScenKfTd"
      },
      "execution_count": null,
      "outputs": []
    },
    {
      "cell_type": "code",
      "source": [
        "print(device)"
      ],
      "metadata": {
        "colab": {
          "base_uri": "https://localhost:8080/"
        },
        "id": "3DdolaNSV-ff",
        "outputId": "1c124078-cd4c-490a-a9b3-5e3445b1a1da"
      },
      "execution_count": null,
      "outputs": [
        {
          "output_type": "stream",
          "name": "stdout",
          "text": [
            "cpu\n"
          ]
        }
      ]
    },
    {
      "cell_type": "code",
      "source": [
        "display(data_df.sample(5))"
      ],
      "metadata": {
        "colab": {
          "base_uri": "https://localhost:8080/",
          "height": 206
        },
        "id": "9r4_hn1cWDw6",
        "outputId": "bcbf8a1c-327c-4279-ffb9-f884b8b9b201"
      },
      "execution_count": null,
      "outputs": [
        {
          "output_type": "display_data",
          "data": {
            "text/plain": [
              "          id  Area  MajorAxisLength  MinorAxisLength  Eccentricity  \\\n",
              "6775    6776  6983       166.325714        54.839632      0.944081   \n",
              "13085  13086  7956       149.410989        68.830347      0.887567   \n",
              "3260    3261  6478       154.434004        54.726243      0.935107   \n",
              "2698    2699  5693       143.541405        51.548778      0.933291   \n",
              "2833    2834  5861       145.490505        52.084103      0.933726   \n",
              "\n",
              "       ConvexArea  EquivDiameter    Extent  Perimeter  Roundness  \\\n",
              "6775         7189      94.292268  0.474099    370.739   0.638433   \n",
              "13085        8174     100.647374  0.567394    361.851   0.763563   \n",
              "3260         6668      90.818752  0.648903    348.927   0.668624   \n",
              "2698         5820      85.138433  0.535056    322.505   0.687825   \n",
              "2833         5960      86.385514  0.502659    326.347   0.691548   \n",
              "\n",
              "       AspectRation  Class  \n",
              "6775       3.032947      1  \n",
              "13085      2.170714      0  \n",
              "3260       2.821937      1  \n",
              "2698       2.784574      1  \n",
              "2833       2.793376      1  "
            ],
            "text/html": [
              "\n",
              "  <div id=\"df-171f2f46-eac6-42a4-ac6a-79afa138cc72\" class=\"colab-df-container\">\n",
              "    <div>\n",
              "<style scoped>\n",
              "    .dataframe tbody tr th:only-of-type {\n",
              "        vertical-align: middle;\n",
              "    }\n",
              "\n",
              "    .dataframe tbody tr th {\n",
              "        vertical-align: top;\n",
              "    }\n",
              "\n",
              "    .dataframe thead th {\n",
              "        text-align: right;\n",
              "    }\n",
              "</style>\n",
              "<table border=\"1\" class=\"dataframe\">\n",
              "  <thead>\n",
              "    <tr style=\"text-align: right;\">\n",
              "      <th></th>\n",
              "      <th>id</th>\n",
              "      <th>Area</th>\n",
              "      <th>MajorAxisLength</th>\n",
              "      <th>MinorAxisLength</th>\n",
              "      <th>Eccentricity</th>\n",
              "      <th>ConvexArea</th>\n",
              "      <th>EquivDiameter</th>\n",
              "      <th>Extent</th>\n",
              "      <th>Perimeter</th>\n",
              "      <th>Roundness</th>\n",
              "      <th>AspectRation</th>\n",
              "      <th>Class</th>\n",
              "    </tr>\n",
              "  </thead>\n",
              "  <tbody>\n",
              "    <tr>\n",
              "      <th>6775</th>\n",
              "      <td>6776</td>\n",
              "      <td>6983</td>\n",
              "      <td>166.325714</td>\n",
              "      <td>54.839632</td>\n",
              "      <td>0.944081</td>\n",
              "      <td>7189</td>\n",
              "      <td>94.292268</td>\n",
              "      <td>0.474099</td>\n",
              "      <td>370.739</td>\n",
              "      <td>0.638433</td>\n",
              "      <td>3.032947</td>\n",
              "      <td>1</td>\n",
              "    </tr>\n",
              "    <tr>\n",
              "      <th>13085</th>\n",
              "      <td>13086</td>\n",
              "      <td>7956</td>\n",
              "      <td>149.410989</td>\n",
              "      <td>68.830347</td>\n",
              "      <td>0.887567</td>\n",
              "      <td>8174</td>\n",
              "      <td>100.647374</td>\n",
              "      <td>0.567394</td>\n",
              "      <td>361.851</td>\n",
              "      <td>0.763563</td>\n",
              "      <td>2.170714</td>\n",
              "      <td>0</td>\n",
              "    </tr>\n",
              "    <tr>\n",
              "      <th>3260</th>\n",
              "      <td>3261</td>\n",
              "      <td>6478</td>\n",
              "      <td>154.434004</td>\n",
              "      <td>54.726243</td>\n",
              "      <td>0.935107</td>\n",
              "      <td>6668</td>\n",
              "      <td>90.818752</td>\n",
              "      <td>0.648903</td>\n",
              "      <td>348.927</td>\n",
              "      <td>0.668624</td>\n",
              "      <td>2.821937</td>\n",
              "      <td>1</td>\n",
              "    </tr>\n",
              "    <tr>\n",
              "      <th>2698</th>\n",
              "      <td>2699</td>\n",
              "      <td>5693</td>\n",
              "      <td>143.541405</td>\n",
              "      <td>51.548778</td>\n",
              "      <td>0.933291</td>\n",
              "      <td>5820</td>\n",
              "      <td>85.138433</td>\n",
              "      <td>0.535056</td>\n",
              "      <td>322.505</td>\n",
              "      <td>0.687825</td>\n",
              "      <td>2.784574</td>\n",
              "      <td>1</td>\n",
              "    </tr>\n",
              "    <tr>\n",
              "      <th>2833</th>\n",
              "      <td>2834</td>\n",
              "      <td>5861</td>\n",
              "      <td>145.490505</td>\n",
              "      <td>52.084103</td>\n",
              "      <td>0.933726</td>\n",
              "      <td>5960</td>\n",
              "      <td>86.385514</td>\n",
              "      <td>0.502659</td>\n",
              "      <td>326.347</td>\n",
              "      <td>0.691548</td>\n",
              "      <td>2.793376</td>\n",
              "      <td>1</td>\n",
              "    </tr>\n",
              "  </tbody>\n",
              "</table>\n",
              "</div>\n",
              "    <div class=\"colab-df-buttons\">\n",
              "\n",
              "  <div class=\"colab-df-container\">\n",
              "    <button class=\"colab-df-convert\" onclick=\"convertToInteractive('df-171f2f46-eac6-42a4-ac6a-79afa138cc72')\"\n",
              "            title=\"Convert this dataframe to an interactive table.\"\n",
              "            style=\"display:none;\">\n",
              "\n",
              "  <svg xmlns=\"http://www.w3.org/2000/svg\" height=\"24px\" viewBox=\"0 -960 960 960\">\n",
              "    <path d=\"M120-120v-720h720v720H120Zm60-500h600v-160H180v160Zm220 220h160v-160H400v160Zm0 220h160v-160H400v160ZM180-400h160v-160H180v160Zm440 0h160v-160H620v160ZM180-180h160v-160H180v160Zm440 0h160v-160H620v160Z\"/>\n",
              "  </svg>\n",
              "    </button>\n",
              "\n",
              "  <style>\n",
              "    .colab-df-container {\n",
              "      display:flex;\n",
              "      gap: 12px;\n",
              "    }\n",
              "\n",
              "    .colab-df-convert {\n",
              "      background-color: #E8F0FE;\n",
              "      border: none;\n",
              "      border-radius: 50%;\n",
              "      cursor: pointer;\n",
              "      display: none;\n",
              "      fill: #1967D2;\n",
              "      height: 32px;\n",
              "      padding: 0 0 0 0;\n",
              "      width: 32px;\n",
              "    }\n",
              "\n",
              "    .colab-df-convert:hover {\n",
              "      background-color: #E2EBFA;\n",
              "      box-shadow: 0px 1px 2px rgba(60, 64, 67, 0.3), 0px 1px 3px 1px rgba(60, 64, 67, 0.15);\n",
              "      fill: #174EA6;\n",
              "    }\n",
              "\n",
              "    .colab-df-buttons div {\n",
              "      margin-bottom: 4px;\n",
              "    }\n",
              "\n",
              "    [theme=dark] .colab-df-convert {\n",
              "      background-color: #3B4455;\n",
              "      fill: #D2E3FC;\n",
              "    }\n",
              "\n",
              "    [theme=dark] .colab-df-convert:hover {\n",
              "      background-color: #434B5C;\n",
              "      box-shadow: 0px 1px 3px 1px rgba(0, 0, 0, 0.15);\n",
              "      filter: drop-shadow(0px 1px 2px rgba(0, 0, 0, 0.3));\n",
              "      fill: #FFFFFF;\n",
              "    }\n",
              "  </style>\n",
              "\n",
              "    <script>\n",
              "      const buttonEl =\n",
              "        document.querySelector('#df-171f2f46-eac6-42a4-ac6a-79afa138cc72 button.colab-df-convert');\n",
              "      buttonEl.style.display =\n",
              "        google.colab.kernel.accessAllowed ? 'block' : 'none';\n",
              "\n",
              "      async function convertToInteractive(key) {\n",
              "        const element = document.querySelector('#df-171f2f46-eac6-42a4-ac6a-79afa138cc72');\n",
              "        const dataTable =\n",
              "          await google.colab.kernel.invokeFunction('convertToInteractive',\n",
              "                                                    [key], {});\n",
              "        if (!dataTable) return;\n",
              "\n",
              "        const docLinkHtml = 'Like what you see? Visit the ' +\n",
              "          '<a target=\"_blank\" href=https://colab.research.google.com/notebooks/data_table.ipynb>data table notebook</a>'\n",
              "          + ' to learn more about interactive tables.';\n",
              "        element.innerHTML = '';\n",
              "        dataTable['output_type'] = 'display_data';\n",
              "        await google.colab.output.renderOutput(dataTable, element);\n",
              "        const docLink = document.createElement('div');\n",
              "        docLink.innerHTML = docLinkHtml;\n",
              "        element.appendChild(docLink);\n",
              "      }\n",
              "    </script>\n",
              "  </div>\n",
              "\n",
              "\n",
              "<div id=\"df-e7808035-fdd4-4099-8435-139ca5616d5f\">\n",
              "  <button class=\"colab-df-quickchart\" onclick=\"quickchart('df-e7808035-fdd4-4099-8435-139ca5616d5f')\"\n",
              "            title=\"Suggest charts\"\n",
              "            style=\"display:none;\">\n",
              "\n",
              "<svg xmlns=\"http://www.w3.org/2000/svg\" height=\"24px\"viewBox=\"0 0 24 24\"\n",
              "     width=\"24px\">\n",
              "    <g>\n",
              "        <path d=\"M19 3H5c-1.1 0-2 .9-2 2v14c0 1.1.9 2 2 2h14c1.1 0 2-.9 2-2V5c0-1.1-.9-2-2-2zM9 17H7v-7h2v7zm4 0h-2V7h2v10zm4 0h-2v-4h2v4z\"/>\n",
              "    </g>\n",
              "</svg>\n",
              "  </button>\n",
              "\n",
              "<style>\n",
              "  .colab-df-quickchart {\n",
              "      --bg-color: #E8F0FE;\n",
              "      --fill-color: #1967D2;\n",
              "      --hover-bg-color: #E2EBFA;\n",
              "      --hover-fill-color: #174EA6;\n",
              "      --disabled-fill-color: #AAA;\n",
              "      --disabled-bg-color: #DDD;\n",
              "  }\n",
              "\n",
              "  [theme=dark] .colab-df-quickchart {\n",
              "      --bg-color: #3B4455;\n",
              "      --fill-color: #D2E3FC;\n",
              "      --hover-bg-color: #434B5C;\n",
              "      --hover-fill-color: #FFFFFF;\n",
              "      --disabled-bg-color: #3B4455;\n",
              "      --disabled-fill-color: #666;\n",
              "  }\n",
              "\n",
              "  .colab-df-quickchart {\n",
              "    background-color: var(--bg-color);\n",
              "    border: none;\n",
              "    border-radius: 50%;\n",
              "    cursor: pointer;\n",
              "    display: none;\n",
              "    fill: var(--fill-color);\n",
              "    height: 32px;\n",
              "    padding: 0;\n",
              "    width: 32px;\n",
              "  }\n",
              "\n",
              "  .colab-df-quickchart:hover {\n",
              "    background-color: var(--hover-bg-color);\n",
              "    box-shadow: 0 1px 2px rgba(60, 64, 67, 0.3), 0 1px 3px 1px rgba(60, 64, 67, 0.15);\n",
              "    fill: var(--button-hover-fill-color);\n",
              "  }\n",
              "\n",
              "  .colab-df-quickchart-complete:disabled,\n",
              "  .colab-df-quickchart-complete:disabled:hover {\n",
              "    background-color: var(--disabled-bg-color);\n",
              "    fill: var(--disabled-fill-color);\n",
              "    box-shadow: none;\n",
              "  }\n",
              "\n",
              "  .colab-df-spinner {\n",
              "    border: 2px solid var(--fill-color);\n",
              "    border-color: transparent;\n",
              "    border-bottom-color: var(--fill-color);\n",
              "    animation:\n",
              "      spin 1s steps(1) infinite;\n",
              "  }\n",
              "\n",
              "  @keyframes spin {\n",
              "    0% {\n",
              "      border-color: transparent;\n",
              "      border-bottom-color: var(--fill-color);\n",
              "      border-left-color: var(--fill-color);\n",
              "    }\n",
              "    20% {\n",
              "      border-color: transparent;\n",
              "      border-left-color: var(--fill-color);\n",
              "      border-top-color: var(--fill-color);\n",
              "    }\n",
              "    30% {\n",
              "      border-color: transparent;\n",
              "      border-left-color: var(--fill-color);\n",
              "      border-top-color: var(--fill-color);\n",
              "      border-right-color: var(--fill-color);\n",
              "    }\n",
              "    40% {\n",
              "      border-color: transparent;\n",
              "      border-right-color: var(--fill-color);\n",
              "      border-top-color: var(--fill-color);\n",
              "    }\n",
              "    60% {\n",
              "      border-color: transparent;\n",
              "      border-right-color: var(--fill-color);\n",
              "    }\n",
              "    80% {\n",
              "      border-color: transparent;\n",
              "      border-right-color: var(--fill-color);\n",
              "      border-bottom-color: var(--fill-color);\n",
              "    }\n",
              "    90% {\n",
              "      border-color: transparent;\n",
              "      border-bottom-color: var(--fill-color);\n",
              "    }\n",
              "  }\n",
              "</style>\n",
              "\n",
              "  <script>\n",
              "    async function quickchart(key) {\n",
              "      const quickchartButtonEl =\n",
              "        document.querySelector('#' + key + ' button');\n",
              "      quickchartButtonEl.disabled = true;  // To prevent multiple clicks.\n",
              "      quickchartButtonEl.classList.add('colab-df-spinner');\n",
              "      try {\n",
              "        const charts = await google.colab.kernel.invokeFunction(\n",
              "            'suggestCharts', [key], {});\n",
              "      } catch (error) {\n",
              "        console.error('Error during call to suggestCharts:', error);\n",
              "      }\n",
              "      quickchartButtonEl.classList.remove('colab-df-spinner');\n",
              "      quickchartButtonEl.classList.add('colab-df-quickchart-complete');\n",
              "    }\n",
              "    (() => {\n",
              "      let quickchartButtonEl =\n",
              "        document.querySelector('#df-e7808035-fdd4-4099-8435-139ca5616d5f button');\n",
              "      quickchartButtonEl.style.display =\n",
              "        google.colab.kernel.accessAllowed ? 'block' : 'none';\n",
              "    })();\n",
              "  </script>\n",
              "</div>\n",
              "\n",
              "    </div>\n",
              "  </div>\n"
            ],
            "application/vnd.google.colaboratory.intrinsic+json": {
              "type": "dataframe",
              "summary": "{\n  \"name\": \"display(data_df\",\n  \"rows\": 5,\n  \"fields\": [\n    {\n      \"column\": \"id\",\n      \"properties\": {\n        \"dtype\": \"number\",\n        \"std\": 4440,\n        \"min\": 2699,\n        \"max\": 13086,\n        \"num_unique_values\": 5,\n        \"samples\": [\n          13086,\n          2834,\n          3261\n        ],\n        \"semantic_type\": \"\",\n        \"description\": \"\"\n      }\n    },\n    {\n      \"column\": \"Area\",\n      \"properties\": {\n        \"dtype\": \"number\",\n        \"std\": 917,\n        \"min\": 5693,\n        \"max\": 7956,\n        \"num_unique_values\": 5,\n        \"samples\": [\n          7956,\n          5861,\n          6478\n        ],\n        \"semantic_type\": \"\",\n        \"description\": \"\"\n      }\n    },\n    {\n      \"column\": \"MajorAxisLength\",\n      \"properties\": {\n        \"dtype\": \"number\",\n        \"std\": 9.105597429088407,\n        \"min\": 143.5414046,\n        \"max\": 166.3257136,\n        \"num_unique_values\": 5,\n        \"samples\": [\n          149.4109892,\n          145.490505,\n          154.4340037\n        ],\n        \"semantic_type\": \"\",\n        \"description\": \"\"\n      }\n    },\n    {\n      \"column\": \"MinorAxisLength\",\n      \"properties\": {\n        \"dtype\": \"number\",\n        \"std\": 7.104767614444263,\n        \"min\": 51.54877806,\n        \"max\": 68.83034715,\n        \"num_unique_values\": 5,\n        \"samples\": [\n          68.83034715,\n          52.08410337,\n          54.72624268\n        ],\n        \"semantic_type\": \"\",\n        \"description\": \"\"\n      }\n    },\n    {\n      \"column\": \"Eccentricity\",\n      \"properties\": {\n        \"dtype\": \"number\",\n        \"std\": 0.022343523585012504,\n        \"min\": 0.8875673681,\n        \"max\": 0.9440814617,\n        \"num_unique_values\": 5,\n        \"samples\": [\n          0.8875673681,\n          0.933725532,\n          0.9351066032\n        ],\n        \"semantic_type\": \"\",\n        \"description\": \"\"\n      }\n    },\n    {\n      \"column\": \"ConvexArea\",\n      \"properties\": {\n        \"dtype\": \"number\",\n        \"std\": 963,\n        \"min\": 5820,\n        \"max\": 8174,\n        \"num_unique_values\": 5,\n        \"samples\": [\n          8174,\n          5960,\n          6668\n        ],\n        \"semantic_type\": \"\",\n        \"description\": \"\"\n      }\n    },\n    {\n      \"column\": \"EquivDiameter\",\n      \"properties\": {\n        \"dtype\": \"number\",\n        \"std\": 6.295898153777371,\n        \"min\": 85.13843273,\n        \"max\": 100.6473736,\n        \"num_unique_values\": 5,\n        \"samples\": [\n          100.6473736,\n          86.38551367,\n          90.81875231\n        ],\n        \"semantic_type\": \"\",\n        \"description\": \"\"\n      }\n    },\n    {\n      \"column\": \"Extent\",\n      \"properties\": {\n        \"dtype\": \"number\",\n        \"std\": 0.06747977023913114,\n        \"min\": 0.4740987168,\n        \"max\": 0.6489031353,\n        \"num_unique_values\": 5,\n        \"samples\": [\n          0.567394095,\n          0.5026586621,\n          0.6489031353\n        ],\n        \"semantic_type\": \"\",\n        \"description\": \"\"\n      }\n    },\n    {\n      \"column\": \"Perimeter\",\n      \"properties\": {\n        \"dtype\": \"number\",\n        \"std\": 21.27244610288154,\n        \"min\": 322.505,\n        \"max\": 370.739,\n        \"num_unique_values\": 5,\n        \"samples\": [\n          361.851,\n          326.347,\n          348.927\n        ],\n        \"semantic_type\": \"\",\n        \"description\": \"\"\n      }\n    },\n    {\n      \"column\": \"Roundness\",\n      \"properties\": {\n        \"dtype\": \"number\",\n        \"std\": 0.046191987910012514,\n        \"min\": 0.6384330449,\n        \"max\": 0.7635633666,\n        \"num_unique_values\": 5,\n        \"samples\": [\n          0.7635633666,\n          0.69154801,\n          0.6686235279\n        ],\n        \"semantic_type\": \"\",\n        \"description\": \"\"\n      }\n    },\n    {\n      \"column\": \"AspectRation\",\n      \"properties\": {\n        \"dtype\": \"number\",\n        \"std\": 0.3238803118575783,\n        \"min\": 2.170713869,\n        \"max\": 3.032947309,\n        \"num_unique_values\": 5,\n        \"samples\": [\n          2.170713869,\n          2.793376396,\n          2.821936901\n        ],\n        \"semantic_type\": \"\",\n        \"description\": \"\"\n      }\n    },\n    {\n      \"column\": \"Class\",\n      \"properties\": {\n        \"dtype\": \"number\",\n        \"std\": 0,\n        \"min\": 0,\n        \"max\": 1,\n        \"num_unique_values\": 2,\n        \"samples\": [\n          0,\n          1\n        ],\n        \"semantic_type\": \"\",\n        \"description\": \"\"\n      }\n    }\n  ]\n}"
            }
          },
          "metadata": {}
        }
      ]
    },
    {
      "cell_type": "code",
      "source": [
        "print(data_df.info())"
      ],
      "metadata": {
        "colab": {
          "base_uri": "https://localhost:8080/"
        },
        "id": "kX8LGcIhWe6R",
        "outputId": "a0db23b6-4b9f-4c4e-c6ba-f907d4ea2183"
      },
      "execution_count": null,
      "outputs": [
        {
          "output_type": "stream",
          "name": "stdout",
          "text": [
            "<class 'pandas.core.frame.DataFrame'>\n",
            "RangeIndex: 18185 entries, 0 to 18184\n",
            "Data columns (total 12 columns):\n",
            " #   Column           Non-Null Count  Dtype  \n",
            "---  ------           --------------  -----  \n",
            " 0   id               18185 non-null  int64  \n",
            " 1   Area             18185 non-null  int64  \n",
            " 2   MajorAxisLength  18185 non-null  float64\n",
            " 3   MinorAxisLength  18185 non-null  float64\n",
            " 4   Eccentricity     18185 non-null  float64\n",
            " 5   ConvexArea       18185 non-null  int64  \n",
            " 6   EquivDiameter    18185 non-null  float64\n",
            " 7   Extent           18185 non-null  float64\n",
            " 8   Perimeter        18185 non-null  float64\n",
            " 9   Roundness        18185 non-null  float64\n",
            " 10  AspectRation     18185 non-null  float64\n",
            " 11  Class            18185 non-null  int64  \n",
            "dtypes: float64(8), int64(4)\n",
            "memory usage: 1.7 MB\n",
            "None\n"
          ]
        }
      ]
    },
    {
      "cell_type": "code",
      "source": [
        "# drop id column\n",
        "data_df.drop('id', axis=1, inplace=True)"
      ],
      "metadata": {
        "id": "ZEWRLtMnW1Ab"
      },
      "execution_count": null,
      "outputs": []
    },
    {
      "cell_type": "code",
      "source": [
        "print(data_df.shape)"
      ],
      "metadata": {
        "colab": {
          "base_uri": "https://localhost:8080/"
        },
        "id": "gACfSxGNYP4Z",
        "outputId": "d8ee86b6-cac5-407d-e2bd-12503aede7f4"
      },
      "execution_count": null,
      "outputs": [
        {
          "output_type": "stream",
          "name": "stdout",
          "text": [
            "(18185, 11)\n"
          ]
        }
      ]
    },
    {
      "cell_type": "code",
      "source": [
        "# check for class imbalance\n",
        "print(data_df['Class'].value_counts())"
      ],
      "metadata": {
        "colab": {
          "base_uri": "https://localhost:8080/"
        },
        "id": "CmF3I8ELYTdP",
        "outputId": "bb62980e-d078-44b9-82e9-b9375c5bc163"
      },
      "execution_count": null,
      "outputs": [
        {
          "output_type": "stream",
          "name": "stdout",
          "text": [
            "Class\n",
            "1    9985\n",
            "0    8200\n",
            "Name: count, dtype: int64\n"
          ]
        }
      ]
    },
    {
      "cell_type": "code",
      "source": [
        "# make a copy of the dataframe\n",
        "original_df = data_df.copy()"
      ],
      "metadata": {
        "id": "PcAPT9BrYm0h"
      },
      "execution_count": null,
      "outputs": []
    },
    {
      "cell_type": "code",
      "source": [
        "# normalize data\n",
        "for column in data_df.columns:\n",
        "  data_df[column] = data_df[column] / data_df[column].max()"
      ],
      "metadata": {
        "id": "i7FQMhPTZMS-"
      },
      "execution_count": null,
      "outputs": []
    },
    {
      "cell_type": "code",
      "source": [
        "display(data_df.sample(5))"
      ],
      "metadata": {
        "colab": {
          "base_uri": "https://localhost:8080/",
          "height": 206
        },
        "id": "HVQLqYV9Z1UY",
        "outputId": "4e02f587-4f47-4de6-fdb4-fa55bd2d7011"
      },
      "execution_count": null,
      "outputs": [
        {
          "output_type": "display_data",
          "data": {
            "text/plain": [
              "          Area  MajorAxisLength  MinorAxisLength  Eccentricity  ConvexArea  \\\n",
              "7075  0.650735         0.709219         0.802729      0.889746    0.617278   \n",
              "5564  0.636141         0.863782         0.647331      0.973615    0.605469   \n",
              "7013  0.674143         0.901456         0.656684      0.977061    0.639626   \n",
              "3517  0.522919         0.763844         0.597643      0.967959    0.497093   \n",
              "2170  0.640842         0.833720         0.674271      0.963246    0.611464   \n",
              "\n",
              "      EquivDiameter    Extent  Perimeter  Roundness  AspectRation  Class  \n",
              "7075       0.806681  0.686392   0.632529   0.891969      0.501258    0.0  \n",
              "5564       0.797585  0.736648   0.694060   0.724214      0.757055    1.0  \n",
              "7013       0.821062  0.608052   0.721514   0.710181      0.778822    1.0  \n",
              "3517       0.723131  0.559204   0.617973   0.750935      0.725125    1.0  \n",
              "2170       0.800526  0.614701   0.681964   0.755676      0.701513    1.0  "
            ],
            "text/html": [
              "\n",
              "  <div id=\"df-cb4b0d3c-9eb2-4830-9db7-87743e551ae9\" class=\"colab-df-container\">\n",
              "    <div>\n",
              "<style scoped>\n",
              "    .dataframe tbody tr th:only-of-type {\n",
              "        vertical-align: middle;\n",
              "    }\n",
              "\n",
              "    .dataframe tbody tr th {\n",
              "        vertical-align: top;\n",
              "    }\n",
              "\n",
              "    .dataframe thead th {\n",
              "        text-align: right;\n",
              "    }\n",
              "</style>\n",
              "<table border=\"1\" class=\"dataframe\">\n",
              "  <thead>\n",
              "    <tr style=\"text-align: right;\">\n",
              "      <th></th>\n",
              "      <th>Area</th>\n",
              "      <th>MajorAxisLength</th>\n",
              "      <th>MinorAxisLength</th>\n",
              "      <th>Eccentricity</th>\n",
              "      <th>ConvexArea</th>\n",
              "      <th>EquivDiameter</th>\n",
              "      <th>Extent</th>\n",
              "      <th>Perimeter</th>\n",
              "      <th>Roundness</th>\n",
              "      <th>AspectRation</th>\n",
              "      <th>Class</th>\n",
              "    </tr>\n",
              "  </thead>\n",
              "  <tbody>\n",
              "    <tr>\n",
              "      <th>7075</th>\n",
              "      <td>0.650735</td>\n",
              "      <td>0.709219</td>\n",
              "      <td>0.802729</td>\n",
              "      <td>0.889746</td>\n",
              "      <td>0.617278</td>\n",
              "      <td>0.806681</td>\n",
              "      <td>0.686392</td>\n",
              "      <td>0.632529</td>\n",
              "      <td>0.891969</td>\n",
              "      <td>0.501258</td>\n",
              "      <td>0.0</td>\n",
              "    </tr>\n",
              "    <tr>\n",
              "      <th>5564</th>\n",
              "      <td>0.636141</td>\n",
              "      <td>0.863782</td>\n",
              "      <td>0.647331</td>\n",
              "      <td>0.973615</td>\n",
              "      <td>0.605469</td>\n",
              "      <td>0.797585</td>\n",
              "      <td>0.736648</td>\n",
              "      <td>0.694060</td>\n",
              "      <td>0.724214</td>\n",
              "      <td>0.757055</td>\n",
              "      <td>1.0</td>\n",
              "    </tr>\n",
              "    <tr>\n",
              "      <th>7013</th>\n",
              "      <td>0.674143</td>\n",
              "      <td>0.901456</td>\n",
              "      <td>0.656684</td>\n",
              "      <td>0.977061</td>\n",
              "      <td>0.639626</td>\n",
              "      <td>0.821062</td>\n",
              "      <td>0.608052</td>\n",
              "      <td>0.721514</td>\n",
              "      <td>0.710181</td>\n",
              "      <td>0.778822</td>\n",
              "      <td>1.0</td>\n",
              "    </tr>\n",
              "    <tr>\n",
              "      <th>3517</th>\n",
              "      <td>0.522919</td>\n",
              "      <td>0.763844</td>\n",
              "      <td>0.597643</td>\n",
              "      <td>0.967959</td>\n",
              "      <td>0.497093</td>\n",
              "      <td>0.723131</td>\n",
              "      <td>0.559204</td>\n",
              "      <td>0.617973</td>\n",
              "      <td>0.750935</td>\n",
              "      <td>0.725125</td>\n",
              "      <td>1.0</td>\n",
              "    </tr>\n",
              "    <tr>\n",
              "      <th>2170</th>\n",
              "      <td>0.640842</td>\n",
              "      <td>0.833720</td>\n",
              "      <td>0.674271</td>\n",
              "      <td>0.963246</td>\n",
              "      <td>0.611464</td>\n",
              "      <td>0.800526</td>\n",
              "      <td>0.614701</td>\n",
              "      <td>0.681964</td>\n",
              "      <td>0.755676</td>\n",
              "      <td>0.701513</td>\n",
              "      <td>1.0</td>\n",
              "    </tr>\n",
              "  </tbody>\n",
              "</table>\n",
              "</div>\n",
              "    <div class=\"colab-df-buttons\">\n",
              "\n",
              "  <div class=\"colab-df-container\">\n",
              "    <button class=\"colab-df-convert\" onclick=\"convertToInteractive('df-cb4b0d3c-9eb2-4830-9db7-87743e551ae9')\"\n",
              "            title=\"Convert this dataframe to an interactive table.\"\n",
              "            style=\"display:none;\">\n",
              "\n",
              "  <svg xmlns=\"http://www.w3.org/2000/svg\" height=\"24px\" viewBox=\"0 -960 960 960\">\n",
              "    <path d=\"M120-120v-720h720v720H120Zm60-500h600v-160H180v160Zm220 220h160v-160H400v160Zm0 220h160v-160H400v160ZM180-400h160v-160H180v160Zm440 0h160v-160H620v160ZM180-180h160v-160H180v160Zm440 0h160v-160H620v160Z\"/>\n",
              "  </svg>\n",
              "    </button>\n",
              "\n",
              "  <style>\n",
              "    .colab-df-container {\n",
              "      display:flex;\n",
              "      gap: 12px;\n",
              "    }\n",
              "\n",
              "    .colab-df-convert {\n",
              "      background-color: #E8F0FE;\n",
              "      border: none;\n",
              "      border-radius: 50%;\n",
              "      cursor: pointer;\n",
              "      display: none;\n",
              "      fill: #1967D2;\n",
              "      height: 32px;\n",
              "      padding: 0 0 0 0;\n",
              "      width: 32px;\n",
              "    }\n",
              "\n",
              "    .colab-df-convert:hover {\n",
              "      background-color: #E2EBFA;\n",
              "      box-shadow: 0px 1px 2px rgba(60, 64, 67, 0.3), 0px 1px 3px 1px rgba(60, 64, 67, 0.15);\n",
              "      fill: #174EA6;\n",
              "    }\n",
              "\n",
              "    .colab-df-buttons div {\n",
              "      margin-bottom: 4px;\n",
              "    }\n",
              "\n",
              "    [theme=dark] .colab-df-convert {\n",
              "      background-color: #3B4455;\n",
              "      fill: #D2E3FC;\n",
              "    }\n",
              "\n",
              "    [theme=dark] .colab-df-convert:hover {\n",
              "      background-color: #434B5C;\n",
              "      box-shadow: 0px 1px 3px 1px rgba(0, 0, 0, 0.15);\n",
              "      filter: drop-shadow(0px 1px 2px rgba(0, 0, 0, 0.3));\n",
              "      fill: #FFFFFF;\n",
              "    }\n",
              "  </style>\n",
              "\n",
              "    <script>\n",
              "      const buttonEl =\n",
              "        document.querySelector('#df-cb4b0d3c-9eb2-4830-9db7-87743e551ae9 button.colab-df-convert');\n",
              "      buttonEl.style.display =\n",
              "        google.colab.kernel.accessAllowed ? 'block' : 'none';\n",
              "\n",
              "      async function convertToInteractive(key) {\n",
              "        const element = document.querySelector('#df-cb4b0d3c-9eb2-4830-9db7-87743e551ae9');\n",
              "        const dataTable =\n",
              "          await google.colab.kernel.invokeFunction('convertToInteractive',\n",
              "                                                    [key], {});\n",
              "        if (!dataTable) return;\n",
              "\n",
              "        const docLinkHtml = 'Like what you see? Visit the ' +\n",
              "          '<a target=\"_blank\" href=https://colab.research.google.com/notebooks/data_table.ipynb>data table notebook</a>'\n",
              "          + ' to learn more about interactive tables.';\n",
              "        element.innerHTML = '';\n",
              "        dataTable['output_type'] = 'display_data';\n",
              "        await google.colab.output.renderOutput(dataTable, element);\n",
              "        const docLink = document.createElement('div');\n",
              "        docLink.innerHTML = docLinkHtml;\n",
              "        element.appendChild(docLink);\n",
              "      }\n",
              "    </script>\n",
              "  </div>\n",
              "\n",
              "\n",
              "<div id=\"df-cf12058c-8adc-4201-9b26-9f8a218b0fc1\">\n",
              "  <button class=\"colab-df-quickchart\" onclick=\"quickchart('df-cf12058c-8adc-4201-9b26-9f8a218b0fc1')\"\n",
              "            title=\"Suggest charts\"\n",
              "            style=\"display:none;\">\n",
              "\n",
              "<svg xmlns=\"http://www.w3.org/2000/svg\" height=\"24px\"viewBox=\"0 0 24 24\"\n",
              "     width=\"24px\">\n",
              "    <g>\n",
              "        <path d=\"M19 3H5c-1.1 0-2 .9-2 2v14c0 1.1.9 2 2 2h14c1.1 0 2-.9 2-2V5c0-1.1-.9-2-2-2zM9 17H7v-7h2v7zm4 0h-2V7h2v10zm4 0h-2v-4h2v4z\"/>\n",
              "    </g>\n",
              "</svg>\n",
              "  </button>\n",
              "\n",
              "<style>\n",
              "  .colab-df-quickchart {\n",
              "      --bg-color: #E8F0FE;\n",
              "      --fill-color: #1967D2;\n",
              "      --hover-bg-color: #E2EBFA;\n",
              "      --hover-fill-color: #174EA6;\n",
              "      --disabled-fill-color: #AAA;\n",
              "      --disabled-bg-color: #DDD;\n",
              "  }\n",
              "\n",
              "  [theme=dark] .colab-df-quickchart {\n",
              "      --bg-color: #3B4455;\n",
              "      --fill-color: #D2E3FC;\n",
              "      --hover-bg-color: #434B5C;\n",
              "      --hover-fill-color: #FFFFFF;\n",
              "      --disabled-bg-color: #3B4455;\n",
              "      --disabled-fill-color: #666;\n",
              "  }\n",
              "\n",
              "  .colab-df-quickchart {\n",
              "    background-color: var(--bg-color);\n",
              "    border: none;\n",
              "    border-radius: 50%;\n",
              "    cursor: pointer;\n",
              "    display: none;\n",
              "    fill: var(--fill-color);\n",
              "    height: 32px;\n",
              "    padding: 0;\n",
              "    width: 32px;\n",
              "  }\n",
              "\n",
              "  .colab-df-quickchart:hover {\n",
              "    background-color: var(--hover-bg-color);\n",
              "    box-shadow: 0 1px 2px rgba(60, 64, 67, 0.3), 0 1px 3px 1px rgba(60, 64, 67, 0.15);\n",
              "    fill: var(--button-hover-fill-color);\n",
              "  }\n",
              "\n",
              "  .colab-df-quickchart-complete:disabled,\n",
              "  .colab-df-quickchart-complete:disabled:hover {\n",
              "    background-color: var(--disabled-bg-color);\n",
              "    fill: var(--disabled-fill-color);\n",
              "    box-shadow: none;\n",
              "  }\n",
              "\n",
              "  .colab-df-spinner {\n",
              "    border: 2px solid var(--fill-color);\n",
              "    border-color: transparent;\n",
              "    border-bottom-color: var(--fill-color);\n",
              "    animation:\n",
              "      spin 1s steps(1) infinite;\n",
              "  }\n",
              "\n",
              "  @keyframes spin {\n",
              "    0% {\n",
              "      border-color: transparent;\n",
              "      border-bottom-color: var(--fill-color);\n",
              "      border-left-color: var(--fill-color);\n",
              "    }\n",
              "    20% {\n",
              "      border-color: transparent;\n",
              "      border-left-color: var(--fill-color);\n",
              "      border-top-color: var(--fill-color);\n",
              "    }\n",
              "    30% {\n",
              "      border-color: transparent;\n",
              "      border-left-color: var(--fill-color);\n",
              "      border-top-color: var(--fill-color);\n",
              "      border-right-color: var(--fill-color);\n",
              "    }\n",
              "    40% {\n",
              "      border-color: transparent;\n",
              "      border-right-color: var(--fill-color);\n",
              "      border-top-color: var(--fill-color);\n",
              "    }\n",
              "    60% {\n",
              "      border-color: transparent;\n",
              "      border-right-color: var(--fill-color);\n",
              "    }\n",
              "    80% {\n",
              "      border-color: transparent;\n",
              "      border-right-color: var(--fill-color);\n",
              "      border-bottom-color: var(--fill-color);\n",
              "    }\n",
              "    90% {\n",
              "      border-color: transparent;\n",
              "      border-bottom-color: var(--fill-color);\n",
              "    }\n",
              "  }\n",
              "</style>\n",
              "\n",
              "  <script>\n",
              "    async function quickchart(key) {\n",
              "      const quickchartButtonEl =\n",
              "        document.querySelector('#' + key + ' button');\n",
              "      quickchartButtonEl.disabled = true;  // To prevent multiple clicks.\n",
              "      quickchartButtonEl.classList.add('colab-df-spinner');\n",
              "      try {\n",
              "        const charts = await google.colab.kernel.invokeFunction(\n",
              "            'suggestCharts', [key], {});\n",
              "      } catch (error) {\n",
              "        console.error('Error during call to suggestCharts:', error);\n",
              "      }\n",
              "      quickchartButtonEl.classList.remove('colab-df-spinner');\n",
              "      quickchartButtonEl.classList.add('colab-df-quickchart-complete');\n",
              "    }\n",
              "    (() => {\n",
              "      let quickchartButtonEl =\n",
              "        document.querySelector('#df-cf12058c-8adc-4201-9b26-9f8a218b0fc1 button');\n",
              "      quickchartButtonEl.style.display =\n",
              "        google.colab.kernel.accessAllowed ? 'block' : 'none';\n",
              "    })();\n",
              "  </script>\n",
              "</div>\n",
              "\n",
              "    </div>\n",
              "  </div>\n"
            ],
            "application/vnd.google.colaboratory.intrinsic+json": {
              "type": "dataframe",
              "summary": "{\n  \"name\": \"display(data_df\",\n  \"rows\": 5,\n  \"fields\": [\n    {\n      \"column\": \"Area\",\n      \"properties\": {\n        \"dtype\": \"number\",\n        \"std\": 0.058891817466700185,\n        \"min\": 0.5229187071498531,\n        \"max\": 0.6741429970617042,\n        \"num_unique_values\": 5,\n        \"samples\": [\n          0.6361410381978453,\n          0.6408423114593536,\n          0.6741429970617042\n        ],\n        \"semantic_type\": \"\",\n        \"description\": \"\"\n      }\n    },\n    {\n      \"column\": \"MajorAxisLength\",\n      \"properties\": {\n        \"dtype\": \"number\",\n        \"std\": 0.07747496984573507,\n        \"min\": 0.7092189143408617,\n        \"max\": 0.9014557723477984,\n        \"num_unique_values\": 5,\n        \"samples\": [\n          0.863781901049294,\n          0.8337199220137758,\n          0.9014557723477984\n        ],\n        \"semantic_type\": \"\",\n        \"description\": \"\"\n      }\n    },\n    {\n      \"column\": \"MinorAxisLength\",\n      \"properties\": {\n        \"dtype\": \"number\",\n        \"std\": 0.0764816934724119,\n        \"min\": 0.5976428377279287,\n        \"max\": 0.8027293158562544,\n        \"num_unique_values\": 5,\n        \"samples\": [\n          0.64733148837948,\n          0.6742707907297998,\n          0.6566836915593578\n        ],\n        \"semantic_type\": \"\",\n        \"description\": \"\"\n      }\n    },\n    {\n      \"column\": \"Eccentricity\",\n      \"properties\": {\n        \"dtype\": \"number\",\n        \"std\": 0.036486029219069384,\n        \"min\": 0.8897463556193972,\n        \"max\": 0.9770614655194034,\n        \"num_unique_values\": 5,\n        \"samples\": [\n          0.9736145731256012,\n          0.9632462497629766,\n          0.9770614655194034\n        ],\n        \"semantic_type\": \"\",\n        \"description\": \"\"\n      }\n    },\n    {\n      \"column\": \"ConvexArea\",\n      \"properties\": {\n        \"dtype\": \"number\",\n        \"std\": 0.05579183273205838,\n        \"min\": 0.49709302325581395,\n        \"max\": 0.639625726744186,\n        \"num_unique_values\": 5,\n        \"samples\": [\n          0.60546875,\n          0.6114643895348837,\n          0.639625726744186\n        ],\n        \"semantic_type\": \"\",\n        \"description\": \"\"\n      }\n    },\n    {\n      \"column\": \"EquivDiameter\",\n      \"properties\": {\n        \"dtype\": \"number\",\n        \"std\": 0.038349307832315355,\n        \"min\": 0.7231311826178414,\n        \"max\": 0.8210621153537337,\n        \"num_unique_values\": 5,\n        \"samples\": [\n          0.7975845023549742,\n          0.8005262716264518,\n          0.8210621153537337\n        ],\n        \"semantic_type\": \"\",\n        \"description\": \"\"\n      }\n    },\n    {\n      \"column\": \"Extent\",\n      \"properties\": {\n        \"dtype\": \"number\",\n        \"std\": 0.0701369320419444,\n        \"min\": 0.5592036717140106,\n        \"max\": 0.7366477018584755,\n        \"num_unique_values\": 5,\n        \"samples\": [\n          0.7366477018584755,\n          0.61470118681874,\n          0.608051502459236\n        ],\n        \"semantic_type\": \"\",\n        \"description\": \"\"\n      }\n    },\n    {\n      \"column\": \"Perimeter\",\n      \"properties\": {\n        \"dtype\": \"number\",\n        \"std\": 0.0432604114322469,\n        \"min\": 0.6179728658770409,\n        \"max\": 0.7215143821864227,\n        \"num_unique_values\": 5,\n        \"samples\": [\n          0.6940597155223781,\n          0.6819636153396879,\n          0.7215143821864227\n        ],\n        \"semantic_type\": \"\",\n        \"description\": \"\"\n      }\n    },\n    {\n      \"column\": \"Roundness\",\n      \"properties\": {\n        \"dtype\": \"number\",\n        \"std\": 0.07256355667386093,\n        \"min\": 0.7101811857790816,\n        \"max\": 0.8919694809329874,\n        \"num_unique_values\": 5,\n        \"samples\": [\n          0.7242139027399956,\n          0.755676452583631,\n          0.7101811857790816\n        ],\n        \"semantic_type\": \"\",\n        \"description\": \"\"\n      }\n    },\n    {\n      \"column\": \"AspectRation\",\n      \"properties\": {\n        \"dtype\": \"number\",\n        \"std\": 0.11106043100489922,\n        \"min\": 0.5012577164768219,\n        \"max\": 0.7788217633047109,\n        \"num_unique_values\": 5,\n        \"samples\": [\n          0.7570546873807328,\n          0.7015129917966453,\n          0.7788217633047109\n        ],\n        \"semantic_type\": \"\",\n        \"description\": \"\"\n      }\n    },\n    {\n      \"column\": \"Class\",\n      \"properties\": {\n        \"dtype\": \"number\",\n        \"std\": 0.44721359549995804,\n        \"min\": 0.0,\n        \"max\": 1.0,\n        \"num_unique_values\": 2,\n        \"samples\": [\n          1.0,\n          0.0\n        ],\n        \"semantic_type\": \"\",\n        \"description\": \"\"\n      }\n    }\n  ]\n}"
            }
          },
          "metadata": {}
        }
      ]
    },
    {
      "cell_type": "code",
      "source": [
        "# converto to numpy array\n",
        "X = np.array(data_df.iloc[:, :-1]) # all rows, all columns but the last one"
      ],
      "metadata": {
        "id": "KTEVgywZZ3Tu"
      },
      "execution_count": null,
      "outputs": []
    },
    {
      "cell_type": "code",
      "source": [
        "# for Y only take last column Class\n",
        "Y = np.array(data_df.iloc[:, -1])"
      ],
      "metadata": {
        "id": "p83hWqQ_aXuT"
      },
      "execution_count": null,
      "outputs": []
    },
    {
      "cell_type": "markdown",
      "source": [
        "- Split dataset into train, test and validation sets."
      ],
      "metadata": {
        "id": "YEd3r435awRb"
      }
    },
    {
      "cell_type": "code",
      "source": [
        "X_train, X_test, y_train, y_test = train_test_split(X, Y, test_size=0.3, random_state=69)"
      ],
      "metadata": {
        "id": "ZFc6YtiNam2K"
      },
      "execution_count": null,
      "outputs": []
    },
    {
      "cell_type": "code",
      "source": [
        "X_test, X_val, y_test, y_val = train_test_split(X_test, y_test, test_size=0.5, random_state=69)"
      ],
      "metadata": {
        "id": "drUXZt6abJef"
      },
      "execution_count": null,
      "outputs": []
    },
    {
      "cell_type": "code",
      "source": [
        "print(X_train.shape, X_test.shape, X_val.shape)"
      ],
      "metadata": {
        "colab": {
          "base_uri": "https://localhost:8080/"
        },
        "id": "3MrICRswbfyV",
        "outputId": "2fee1e67-ef55-4ff5-c8a4-15a6184642d6"
      },
      "execution_count": null,
      "outputs": [
        {
          "output_type": "stream",
          "name": "stdout",
          "text": [
            "(12729, 10) (2728, 10) (2728, 10)\n"
          ]
        }
      ]
    },
    {
      "cell_type": "markdown",
      "source": [
        "# pyTorch Dataset"
      ],
      "metadata": {
        "id": "896Q6kIjcCBT"
      }
    },
    {
      "cell_type": "code",
      "source": [
        "class dataset(Dataset):\n",
        "  def __init__(self, X, Y):\n",
        "    self.X = torch.tensor(X, dtype=torch.float32).to(device)\n",
        "    self.Y = torch.tensor(Y, dtype=torch.float32).to(device)\n",
        "\n",
        "  def __len__(self):\n",
        "    return len(self.X)\n",
        "\n",
        "  def __getitem__(self, index):\n",
        "    return self.X[index], self.Y[index]\n"
      ],
      "metadata": {
        "id": "EcvkVZZBbtKf"
      },
      "execution_count": null,
      "outputs": []
    },
    {
      "cell_type": "code",
      "source": [
        "training_data = dataset(X_train, y_train)\n",
        "testing_data = dataset(X_test, y_test)\n",
        "validation_data = dataset(X_val, y_val)"
      ],
      "metadata": {
        "id": "V93bvvNYdPcw"
      },
      "execution_count": null,
      "outputs": []
    },
    {
      "cell_type": "markdown",
      "source": [
        "# pyTorch DataLoader"
      ],
      "metadata": {
        "id": "AAhhzh64dobG"
      }
    },
    {
      "cell_type": "code",
      "source": [
        "batch = 32"
      ],
      "metadata": {
        "id": "YzQEhis2qpRR"
      },
      "execution_count": null,
      "outputs": []
    },
    {
      "cell_type": "code",
      "source": [],
      "metadata": {
        "id": "kK_5XIH2qsPR"
      },
      "execution_count": null,
      "outputs": []
    },
    {
      "cell_type": "code",
      "source": [
        "train_dataloader = DataLoader(training_data, batch_size=batch, shuffle=True)"
      ],
      "metadata": {
        "id": "N0tr6bVSddMn"
      },
      "execution_count": null,
      "outputs": []
    },
    {
      "cell_type": "code",
      "source": [
        "validation_dataloader = DataLoader(validation_data, batch_size=batch, shuffle=True)"
      ],
      "metadata": {
        "id": "NtPIpkENeNkb"
      },
      "execution_count": null,
      "outputs": []
    },
    {
      "cell_type": "code",
      "source": [
        "testing_dataloader = DataLoader(testing_data, batch_size=batch, shuffle=True)"
      ],
      "metadata": {
        "id": "_kG8u7WReTMb"
      },
      "execution_count": null,
      "outputs": []
    },
    {
      "cell_type": "code",
      "source": [
        "for x, y in train_dataloader:\n",
        "  print(x)\n",
        "  print('-----------------------')\n",
        "  print(y)\n",
        "  break\n",
        "# prints eigth tensor rows and their corresponding targets, as defined in batch_size"
      ],
      "metadata": {
        "colab": {
          "base_uri": "https://localhost:8080/"
        },
        "id": "ga7hYPRDe8aG",
        "outputId": "88357dea-8c56-4b21-ee5e-cc672121bf67"
      },
      "execution_count": null,
      "outputs": [
        {
          "output_type": "stream",
          "name": "stdout",
          "text": [
            "tensor([[0.5203, 0.7938, 0.5707, 0.9786, 0.4949, 0.7213, 0.6339, 0.6374, 0.7023,\n",
            "         0.7891],\n",
            "        [0.6164, 0.8315, 0.6492, 0.9683, 0.5869, 0.7851, 0.6895, 0.6733, 0.7456,\n",
            "         0.7267],\n",
            "        [0.6859, 0.8838, 0.6794, 0.9703, 0.6509, 0.8282, 0.8385, 0.7142, 0.7374,\n",
            "         0.7381],\n",
            "        [0.6679, 0.9171, 0.6372, 0.9824, 0.6376, 0.8172, 0.5816, 0.7205, 0.7056,\n",
            "         0.8166],\n",
            "        [0.9018, 0.9005, 0.8750, 0.9300, 0.8635, 0.9496, 0.7212, 0.7715, 0.8309,\n",
            "         0.5839],\n",
            "        [0.8279, 0.8354, 0.8695, 0.9136, 0.7901, 0.9099, 0.7937, 0.7311, 0.8494,\n",
            "         0.5451],\n",
            "        [0.5610, 0.7818, 0.6300, 0.9638, 0.5326, 0.7490, 0.5601, 0.6364, 0.7597,\n",
            "         0.7040],\n",
            "        [0.8852, 0.8673, 0.8883, 0.9176, 0.8408, 0.9409, 0.6845, 0.7517, 0.8591,\n",
            "         0.5540],\n",
            "        [0.5570, 0.7844, 0.6313, 0.9640, 0.5414, 0.7463, 0.8365, 0.6708, 0.6789,\n",
            "         0.7049],\n",
            "        [0.8663, 0.8664, 0.8683, 0.9229, 0.8200, 0.9308, 0.8582, 0.7413, 0.8645,\n",
            "         0.5661],\n",
            "        [0.9255, 0.9128, 0.8812, 0.9314, 0.8780, 0.9620, 0.7286, 0.7789, 0.8366,\n",
            "         0.5877],\n",
            "        [0.4991, 0.8084, 0.5490, 0.9848, 0.4801, 0.7065, 0.8689, 0.6429, 0.6623,\n",
            "         0.8354],\n",
            "        [0.9972, 0.9161, 0.9463, 0.9155, 0.9562, 0.9986, 0.7742, 0.8118, 0.8298,\n",
            "         0.5492],\n",
            "        [0.8396, 0.8192, 0.8861, 0.9032, 0.7914, 0.9163, 0.7938, 0.7104, 0.9124,\n",
            "         0.5245],\n",
            "        [0.6632, 0.7806, 0.7349, 0.9367, 0.6244, 0.8144, 0.7400, 0.6500, 0.8608,\n",
            "         0.6026],\n",
            "        [0.5875, 0.8000, 0.6410, 0.9646, 0.5619, 0.7665, 0.5940, 0.6659, 0.7265,\n",
            "         0.7081],\n",
            "        [0.4422, 0.5993, 0.6449, 0.9047, 0.4205, 0.6650, 0.6511, 0.5249, 0.8802,\n",
            "         0.5272],\n",
            "        [0.4051, 0.7420, 0.4935, 0.9868, 0.4029, 0.6365, 0.5047, 0.5879, 0.6428,\n",
            "         0.8529],\n",
            "        [0.9488, 0.9306, 0.8884, 0.9338, 0.8995, 0.9741, 0.6364, 0.7884, 0.8371,\n",
            "         0.5943],\n",
            "        [0.6338, 0.8528, 0.6542, 0.9706, 0.6057, 0.7961, 0.7228, 0.6939, 0.7219,\n",
            "         0.7396],\n",
            "        [0.8890, 0.8994, 0.8591, 0.9337, 0.8397, 0.9429, 0.6212, 0.7649, 0.8332,\n",
            "         0.5940],\n",
            "        [0.5676, 0.7721, 0.6469, 0.9578, 0.5416, 0.7534, 0.5509, 0.6385, 0.7635,\n",
            "         0.6771],\n",
            "        [0.8881, 0.8691, 0.8879, 0.9183, 0.8448, 0.9424, 0.7187, 0.7493, 0.8675,\n",
            "         0.5553],\n",
            "        [0.5793, 0.8471, 0.6053, 0.9793, 0.5570, 0.7611, 0.5164, 0.6829, 0.6813,\n",
            "         0.7939],\n",
            "        [0.7548, 0.8030, 0.8138, 0.9202, 0.7157, 0.8688, 0.6764, 0.6992, 0.8468,\n",
            "         0.5598],\n",
            "        [0.8702, 0.8567, 0.8818, 0.9164, 0.8266, 0.9329, 0.7125, 0.7426, 0.8654,\n",
            "         0.5512],\n",
            "        [0.7775, 0.8653, 0.7777, 0.9458, 0.7338, 0.8817, 0.8360, 0.7169, 0.8295,\n",
            "         0.6312],\n",
            "        [0.6024, 0.8310, 0.6356, 0.9710, 0.5730, 0.7761, 0.6409, 0.6614, 0.7551,\n",
            "         0.7417],\n",
            "        [0.6374, 0.8659, 0.6394, 0.9754, 0.6035, 0.7984, 0.7865, 0.6893, 0.7357,\n",
            "         0.7684],\n",
            "        [0.8754, 0.8666, 0.8813, 0.9194, 0.8354, 0.9356, 0.7525, 0.7585, 0.8345,\n",
            "         0.5579],\n",
            "        [0.6077, 0.8892, 0.6058, 0.9844, 0.5843, 0.7796, 0.5461, 0.7012, 0.6779,\n",
            "         0.8327],\n",
            "        [0.5955, 0.8736, 0.5990, 0.9838, 0.5716, 0.7717, 0.4931, 0.6946, 0.6769,\n",
            "         0.8275]])\n",
            "-----------------------\n",
            "tensor([1., 1., 1., 1., 0., 0., 1., 0., 1., 0., 0., 1., 0., 0., 0., 1., 1., 1.,\n",
            "        0., 1., 0., 1., 0., 1., 0., 0., 0., 1., 1., 0., 1., 1.])\n"
          ]
        }
      ]
    },
    {
      "cell_type": "markdown",
      "source": [
        "# Building the model"
      ],
      "metadata": {
        "id": "Gkw4pH1Pfj4_"
      }
    },
    {
      "cell_type": "code",
      "source": [
        "HIDDEN_NEURONS = 12\n",
        "class MyModel(nn.Module):\n",
        "  def __init__(self):\n",
        "    super(MyModel, self).__init__() # use constructor from parent class\n",
        "\n",
        "    self.input_layer = nn.Linear(X.shape[1], HIDDEN_NEURONS)\n",
        "    self.linear = nn.Linear(HIDDEN_NEURONS, 1) # one output since its a class problem\n",
        "    self.sigmoid = nn.Sigmoid()\n",
        "\n",
        "  def forward(self, x):\n",
        "    x = self.input_layer(x)\n",
        "    x = self.linear(x)\n",
        "    x = self.sigmoid(x)\n",
        "    return x"
      ],
      "metadata": {
        "id": "CEAElcRmfIT-"
      },
      "execution_count": null,
      "outputs": []
    },
    {
      "cell_type": "code",
      "source": [
        "model = MyModel().to(device)"
      ],
      "metadata": {
        "id": "t1l4BK4ziOhb"
      },
      "execution_count": null,
      "outputs": []
    },
    {
      "cell_type": "code",
      "source": [
        "summary(model, (X.shape[1],))"
      ],
      "metadata": {
        "colab": {
          "base_uri": "https://localhost:8080/"
        },
        "id": "Z2kcve8WjF32",
        "outputId": "c3d72f0a-1156-4432-d96b-4ce87ec3bc0d"
      },
      "execution_count": null,
      "outputs": [
        {
          "output_type": "stream",
          "name": "stdout",
          "text": [
            "----------------------------------------------------------------\n",
            "        Layer (type)               Output Shape         Param #\n",
            "================================================================\n",
            "            Linear-1                   [-1, 12]             132\n",
            "            Linear-2                    [-1, 1]              13\n",
            "           Sigmoid-3                    [-1, 1]               0\n",
            "================================================================\n",
            "Total params: 145\n",
            "Trainable params: 145\n",
            "Non-trainable params: 0\n",
            "----------------------------------------------------------------\n",
            "Input size (MB): 0.00\n",
            "Forward/backward pass size (MB): 0.00\n",
            "Params size (MB): 0.00\n",
            "Estimated Total Size (MB): 0.00\n",
            "----------------------------------------------------------------\n"
          ]
        }
      ]
    },
    {
      "cell_type": "markdown",
      "source": [
        "- DEfine loss function"
      ],
      "metadata": {
        "id": "4hWXAII4jw9h"
      }
    },
    {
      "cell_type": "code",
      "source": [
        "criterion = nn.BCELoss()"
      ],
      "metadata": {
        "id": "qoYrSezPjT8v"
      },
      "execution_count": null,
      "outputs": []
    },
    {
      "cell_type": "markdown",
      "source": [
        "- Choose optimizer"
      ],
      "metadata": {
        "id": "2X0E06JJj7rh"
      }
    },
    {
      "cell_type": "code",
      "source": [
        "optimizer = Adam(model.parameters(), lr=0.001)"
      ],
      "metadata": {
        "id": "o_nM2_omj5Qt"
      },
      "execution_count": null,
      "outputs": []
    },
    {
      "cell_type": "markdown",
      "source": [
        "# Training Loop"
      ],
      "metadata": {
        "id": "mTVh3RB6kOj_"
      }
    },
    {
      "cell_type": "code",
      "source": [
        "total_loss_train_plot = []\n",
        "total_loss_validation_plot = []\n",
        "total_acc_train_plot = []\n",
        "total_acc_validation_plot = []"
      ],
      "metadata": {
        "id": "XzrgAigukFPK"
      },
      "execution_count": null,
      "outputs": []
    },
    {
      "cell_type": "code",
      "source": [
        "epochs = 20\n",
        "for epoch in range(epochs):\n",
        "  total_acc_train = 0\n",
        "  total_loss_train = 0\n",
        "  total_acc_val = 0\n",
        "  total_loss_val = 0\n",
        "  for data in train_dataloader:\n",
        "    inputs, labels = data\n",
        "    prediction = model(inputs).squeeze(1) # squeeze to match shapes\n",
        "    batch_loss = criterion(prediction, labels)\n",
        "    total_loss_train += batch_loss.item()\n",
        "    # batch accuracy\n",
        "    acc = (prediction.round() == labels).sum().item() # make a break here to see\n",
        "    total_acc_train += acc\n",
        "    batch_loss.backward()\n",
        "    optimizer.step()\n",
        "    optimizer.zero_grad()\n",
        "\n",
        "  # validation\n",
        "  with torch.no_grad():\n",
        "    for data in validation_dataloader:\n",
        "      inputs, labels = data\n",
        "      prediction = model(inputs).squeeze(1)\n",
        "      batch_loss = criterion(prediction, labels)\n",
        "      total_loss_val += batch_loss.item()\n",
        "      acc = (prediction.round() == labels).sum().item()\n",
        "      total_acc_val += acc\n",
        "\n",
        "  total_loss_train_plot.append(total_loss_train / len(train_dataloader))\n",
        "  total_loss_validation_plot.append(total_loss_val / len(validation_dataloader))\n",
        "  total_acc_train_plot.append(total_acc_train / len(train_dataloader.dataset))\n",
        "  total_acc_validation_plot.append(total_acc_val / len(validation_dataloader.dataset))\n",
        "  # print train accuracy\n",
        "  print(f'Epoch No.{epoch+1} Train Loss: {total_loss_train / len(train_dataloader)} Train Acc: {total_acc_train / len(train_dataloader.dataset)}')"
      ],
      "metadata": {
        "colab": {
          "base_uri": "https://localhost:8080/"
        },
        "id": "Wo4swFsoknxl",
        "outputId": "3a67b128-56d7-4a84-9777-94183bf74339"
      },
      "execution_count": null,
      "outputs": [
        {
          "output_type": "stream",
          "name": "stdout",
          "text": [
            "Epoch No.1 Train Loss: 0.5695495902743172 Train Acc: 0.9138188388718674\n",
            "Epoch No.2 Train Loss: 0.2539614762305914 Train Acc: 0.9776101814753712\n",
            "Epoch No.3 Train Loss: 0.12143853347954439 Train Acc: 0.9826380705475686\n",
            "Epoch No.4 Train Loss: 0.08131626493124357 Train Acc: 0.9844449681828895\n",
            "Epoch No.5 Train Loss: 0.06467996383712969 Train Acc: 0.9846806504831487\n",
            "Epoch No.6 Train Loss: 0.05632336841821296 Train Acc: 0.9853091366171733\n",
            "Epoch No.7 Train Loss: 0.051726581649293175 Train Acc: 0.9854662581506796\n",
            "Epoch No.8 Train Loss: 0.04891423672559348 Train Acc: 0.9853876973839265\n",
            "Epoch No.9 Train Loss: 0.046391235974537745 Train Acc: 0.9853091366171733\n",
            "Epoch No.10 Train Loss: 0.04460506185060882 Train Acc: 0.9864875481184696\n",
            "Epoch No.11 Train Loss: 0.044241619870843525 Train Acc: 0.9853876973839265\n",
            "Epoch No.12 Train Loss: 0.04334578620288615 Train Acc: 0.985859061984445\n",
            "Epoch No.13 Train Loss: 0.04329990717668985 Train Acc: 0.9853091366171733\n",
            "Epoch No.14 Train Loss: 0.04286312139341514 Train Acc: 0.9860947442847042\n",
            "Epoch No.15 Train Loss: 0.04276183478729612 Train Acc: 0.9854662581506796\n",
            "Epoch No.16 Train Loss: 0.042201346123413225 Train Acc: 0.985937622751198\n",
            "Epoch No.17 Train Loss: 0.04234220860344615 Train Acc: 0.9850734543169142\n",
            "Epoch No.18 Train Loss: 0.042193035645136635 Train Acc: 0.9855448189174326\n",
            "Epoch No.19 Train Loss: 0.04194629060726931 Train Acc: 0.9850734543169142\n",
            "Epoch No.20 Train Loss: 0.04216105016398866 Train Acc: 0.9860161835179512\n"
          ]
        }
      ]
    },
    {
      "cell_type": "markdown",
      "source": [
        "# Testing"
      ],
      "metadata": {
        "id": "odnXlJaVq-R7"
      }
    },
    {
      "cell_type": "code",
      "source": [
        "with torch.no_grad():\n",
        "  total_acc_test = 0\n",
        "  total_loss_test = 0\n",
        "  for data in testing_dataloader:\n",
        "    inputs, labels = data\n",
        "    prediction = model(inputs).squeeze(1)\n",
        "    batch_loss = criterion(prediction, labels).item()\n",
        "    total_loss_test += batch\n",
        "    acc = (prediction.round() == labels).sum().item()\n",
        "    total_acc_test += acc\n",
        "print(f'Accuracy: {total_acc_test / len(testing_dataloader.dataset)}')"
      ],
      "metadata": {
        "colab": {
          "base_uri": "https://localhost:8080/"
        },
        "id": "yZcMTv3mnGwT",
        "outputId": "186ea249-dcf0-45b1-97d9-54ea437e1764"
      },
      "execution_count": null,
      "outputs": [
        {
          "output_type": "stream",
          "name": "stdout",
          "text": [
            "Accuracy: 0.9879032258064516\n"
          ]
        }
      ]
    },
    {
      "cell_type": "markdown",
      "source": [
        "# Ploting results."
      ],
      "metadata": {
        "id": "Q7bMU1mVsSX-"
      }
    },
    {
      "cell_type": "code",
      "source": [
        "# prompt: can you plot training loss and validation loss over epochs?\n",
        "\n",
        "# Ploting results.\n",
        "plt.figure(figsize=(10, 5))\n",
        "plt.title(\"Training and Validation Loss\")\n",
        "plt.plot(total_loss_train_plot, label=\"Training Loss\")\n",
        "plt.plot(total_loss_validation_plot, label=\"Validation Loss\")\n",
        "plt.xlabel(\"Epochs\")\n",
        "plt.ylabel(\"Loss\")\n",
        "plt.legend()\n",
        "plt.show()\n",
        "\n",
        "plt.figure(figsize=(10, 5))\n",
        "plt.title(\"Training and Validation Accuracy\")\n",
        "plt.plot(total_acc_train_plot, label=\"Training Accuracy\")\n",
        "plt.plot(total_acc_validation_plot, label=\"Validation Accuracy\")\n",
        "plt.xlabel(\"Epochs\")\n",
        "plt.ylabel(\"Accuracy\")\n",
        "plt.legend()\n",
        "plt.show()\n"
      ],
      "metadata": {
        "colab": {
          "base_uri": "https://localhost:8080/",
          "height": 957
        },
        "id": "_wYREGsesO33",
        "outputId": "8efa3e2c-419c-4cff-bb62-6f46345aa7ad"
      },
      "execution_count": null,
      "outputs": [
        {
          "output_type": "display_data",
          "data": {
            "text/plain": [
              "<Figure size 1000x500 with 1 Axes>"
            ],
            "image/png": "[encoded data removed]"
          },
          "metadata": {}
        },
        {
          "output_type": "display_data",
          "data": {
            "text/plain": [
              "<Figure size 1000x500 with 1 Axes>"
            ],
            "image/png": "[encoded data removed]"
          },
          "metadata": {}
        }
      ]
    },
    {
      "cell_type": "code",
      "source": [],
      "metadata": {
        "id": "kuAevEHrs7GJ"
      },
      "execution_count": null,
      "outputs": []
    }
  ]
}